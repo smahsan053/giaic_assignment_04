{
  "nbformat": 4,
  "nbformat_minor": 0,
  "metadata": {
    "colab": {
      "provenance": [],
      "authorship_tag": "ABX9TyMvpQR/jMq9j2iXcWmTJYHG",
      "include_colab_link": true
    },
    "kernelspec": {
      "name": "python3",
      "display_name": "Python 3"
    },
    "language_info": {
      "name": "python"
    }
  },
  "cells": [
    {
      "cell_type": "markdown",
      "metadata": {
        "id": "view-in-github",
        "colab_type": "text"
      },
      "source": [
        "<a href=\"https://colab.research.google.com/github/smahsan053/giaic_assignment_04/blob/main/loops_control_flow.ipynb\" target=\"_parent\"><img src=\"https://colab.research.google.com/assets/colab-badge.svg\" alt=\"Open In Colab\"/></a>"
      ]
    },
    {
      "cell_type": "code",
      "execution_count": 1,
      "metadata": {
        "colab": {
          "base_uri": "https://localhost:8080/"
        },
        "id": "4xeLg90ZmVtj",
        "outputId": "9d874f96-6680-4977-fc1c-02b59e54abe8"
      },
      "outputs": [
        {
          "output_type": "stream",
          "name": "stdout",
          "text": [
            "I am thinking of a number between 1 and 100.\n",
            "Enter a guess: 5\n",
            "Your guess is too low\n",
            "Enter a guess: 7\n",
            "Your guess is too low\n",
            "Enter a guess: 55\n",
            "Your guess is too low\n",
            "Enter a guess: 77\n",
            "Your guess is too low\n",
            "Enter a guess: 88\n",
            "Your guess is too high\n",
            "Enter a guess: 70\n",
            "Your guess is too low\n",
            "Enter a guess: 75\n",
            "Your guess is too low\n",
            "Enter a guess: 77\n",
            "Your guess is too low\n",
            "Enter a guess: 78\n",
            "Your guess is too low\n",
            "Enter a guess: 80\n",
            "Your guess is too low\n",
            "Enter a guess: 85\n",
            "Your guess is too high\n",
            "Enter a guess: 82\n",
            "Your guess is too high\n",
            "Enter a guess: 81\n",
            "Congratulations! The number was 81\n"
          ]
        }
      ],
      "source": [
        "# 00_guess_my_number\n",
        "import random\n",
        "\n",
        "def main():\n",
        "    secret_number = random.randint(1, 100)\n",
        "    print(\"I am thinking of a number between 1 and 100.\")\n",
        "\n",
        "    guess = int(input(\"Enter a guess: \"))\n",
        "    while guess != secret_number:\n",
        "        if guess < secret_number:\n",
        "            print(\"Your guess is too low\")\n",
        "        else:\n",
        "            print(\"Your guess is too high\")\n",
        "        guess = int(input(\"Enter a guess: \"))  # This should be outside the else block, not just for high guesses\n",
        "\n",
        "    print(f\"Congratulations! The number was {secret_number}\")\n",
        "\n",
        "if __name__ == \"__main__\":\n",
        "    main()"
      ]
    },
    {
      "cell_type": "code",
      "source": [
        "# 01_fibonacci\n",
        "MAX_VALUE = 10000\n",
        "\n",
        "def fibonacci():\n",
        "    a,b = 0, 1\n",
        "    print(\"a,b, end = \"\")\")\n",
        "    while True:\n",
        "        c = a + b\n",
        "        if c >= MAX_VALUE:\n",
        "            break\n",
        "        print(c, end = \" \")\n",
        "\n",
        "        a, b = b, c\n",
        "\n",
        "if __name__ == \"__main__\":\n",
        "    fibonacci()"
      ],
      "metadata": {
        "colab": {
          "base_uri": "https://localhost:8080/"
        },
        "id": "9P10B4kGmeWI",
        "outputId": "6e6f3c2d-ab53-4004-f83a-c63e08010df5"
      },
      "execution_count": 2,
      "outputs": [
        {
          "output_type": "stream",
          "name": "stdout",
          "text": [
            "a,b, end = )\n",
            "1 2 3 5 8 13 21 34 55 89 144 233 377 610 987 1597 2584 4181 6765 "
          ]
        }
      ]
    },
    {
      "cell_type": "code",
      "source": [
        "# 02_print_events\n",
        "def main():\n",
        "    for i in range(20):\n",
        "     print(i*2)\n",
        "\n",
        "if __name__ == \"__main__\":\n",
        "    main()"
      ],
      "metadata": {
        "colab": {
          "base_uri": "https://localhost:8080/"
        },
        "id": "mvNwBW8Nmh1T",
        "outputId": "1c897023-7bbf-40b3-cb29-58db3b51cff3"
      },
      "execution_count": 3,
      "outputs": [
        {
          "output_type": "stream",
          "name": "stdout",
          "text": [
            "0\n",
            "2\n",
            "4\n",
            "6\n",
            "8\n",
            "10\n",
            "12\n",
            "14\n",
            "16\n",
            "18\n",
            "20\n",
            "22\n",
            "24\n",
            "26\n",
            "28\n",
            "30\n",
            "32\n",
            "34\n",
            "36\n",
            "38\n"
          ]
        }
      ]
    },
    {
      "cell_type": "code",
      "source": [
        "# 03_wholesome_machine\n",
        "correct_affirmation = \"I am capable of doing anything I put my mind to.\"\n",
        "\n",
        "def wholesome_machine():\n",
        "    print (\"Welcome to the Wholesome Machine!\")\n",
        "    while True:\n",
        "        user_input = input(\"Please type the following affirmation: \\n\" + correct_affirmation + \"\\n\")\n",
        "        if user_input == correct_affirmation:\n",
        "            print(\"That\\'s right!\")\n",
        "            break\n",
        "        else:\n",
        "            print(\"That\\'s not right. Try again.\")\n",
        "\n",
        "if __name__ == \"__main__\":\n",
        "    wholesome_machine()"
      ],
      "metadata": {
        "colab": {
          "base_uri": "https://localhost:8080/"
        },
        "id": "fPk3ol8YmlRv",
        "outputId": "8c93fdee-de3b-4288-eb81-d36729af5635"
      },
      "execution_count": 4,
      "outputs": [
        {
          "output_type": "stream",
          "name": "stdout",
          "text": [
            "Welcome to the Wholesome Machine!\n",
            "Please type the following affirmation: \n",
            "I am capable of doing anything I put my mind to.\n",
            "I am capable of doing anything I put my mind to.\n",
            "That's right!\n"
          ]
        }
      ]
    },
    {
      "cell_type": "code",
      "source": [
        "# 04_liftoff\n",
        "def liftoff():\n",
        "    for i in range(10, 0 , -1):\n",
        "        print(i , end = \" \")\n",
        "    print(\"Liftoff🚀!\")\n",
        "\n",
        "if __name__ == \"__main__\":\n",
        "    liftoff()"
      ],
      "metadata": {
        "colab": {
          "base_uri": "https://localhost:8080/"
        },
        "id": "J_VYctcFmouc",
        "outputId": "ac0609f7-ba8c-4d41-cdce-129d8d1947fa"
      },
      "execution_count": 5,
      "outputs": [
        {
          "output_type": "stream",
          "name": "stdout",
          "text": [
            "10 9 8 7 6 5 4 3 2 1 Liftoff🚀!\n"
          ]
        }
      ]
    },
    {
      "cell_type": "code",
      "source": [
        "# 05_double_it\n",
        "def double_it():\n",
        "    user_value = int (input(\"Please enter a number: \"))\n",
        "    while user_value < 100:\n",
        "        user_value = user_value * 2\n",
        "        print(user_value)\n",
        "\n",
        "if __name__ == \"__main__\":\n",
        "    double_it()"
      ],
      "metadata": {
        "colab": {
          "base_uri": "https://localhost:8080/"
        },
        "id": "WBNQjouzm2KD",
        "outputId": "419270e4-d84c-4177-f4dc-78082633f5e8"
      },
      "execution_count": 6,
      "outputs": [
        {
          "output_type": "stream",
          "name": "stdout",
          "text": [
            "Please enter a number: 5\n",
            "10\n",
            "20\n",
            "40\n",
            "80\n",
            "160\n"
          ]
        }
      ]
    }
  ]
}