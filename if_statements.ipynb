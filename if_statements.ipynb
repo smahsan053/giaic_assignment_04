{
  "nbformat": 4,
  "nbformat_minor": 0,
  "metadata": {
    "colab": {
      "provenance": [],
      "authorship_tag": "ABX9TyNuxWX9yVEmdE9UzCkpw1c/",
      "include_colab_link": true
    },
    "kernelspec": {
      "name": "python3",
      "display_name": "Python 3"
    },
    "language_info": {
      "name": "python"
    }
  },
  "cells": [
    {
      "cell_type": "markdown",
      "metadata": {
        "id": "view-in-github",
        "colab_type": "text"
      },
      "source": [
        "<a href=\"https://colab.research.google.com/github/smahsan053/giaic_assignment_04/blob/main/if_statements.ipynb\" target=\"_parent\"><img src=\"https://colab.research.google.com/assets/colab-badge.svg\" alt=\"Open In Colab\"/></a>"
      ]
    },
    {
      "cell_type": "code",
      "execution_count": 1,
      "metadata": {
        "colab": {
          "base_uri": "https://localhost:8080/"
        },
        "id": "c8R58dYWkBdq",
        "outputId": "f7280ddf-530b-4c22-dc09-317ede1f5b0e"
      },
      "outputs": [
        {
          "output_type": "stream",
          "name": "stdout",
          "text": [
            "Even number is: 0\n",
            "Even number is: 2\n",
            "Even number is: 4\n",
            "Even number is: 6\n",
            "Even number is: 8\n",
            "Even number is: 10\n",
            "Even number is: 12\n",
            "Even number is: 14\n",
            "Even number is: 16\n",
            "Even number is: 18\n",
            "Even number is: 20\n",
            "Even number is: 22\n",
            "Even number is: 24\n",
            "Even number is: 26\n",
            "Even number is: 28\n",
            "Even number is: 30\n",
            "Even number is: 32\n",
            "Even number is: 34\n",
            "Even number is: 36\n",
            "Even number is: 38\n",
            "Even number is: 40\n",
            "Even number is: 42\n",
            "Even number is: 44\n",
            "Even number is: 46\n",
            "Even number is: 48\n",
            "Even number is: 50\n",
            "Even number is: 52\n",
            "Even number is: 54\n",
            "Even number is: 56\n",
            "Even number is: 58\n",
            "Even number is: 60\n",
            "Even number is: 62\n",
            "Even number is: 64\n",
            "Even number is: 66\n",
            "Even number is: 68\n",
            "Even number is: 70\n",
            "Even number is: 72\n",
            "Even number is: 74\n",
            "Even number is: 76\n",
            "Even number is: 78\n",
            "Even number is: 80\n",
            "Even number is: 82\n",
            "Even number is: 84\n",
            "Even number is: 86\n",
            "Even number is: 88\n",
            "Even number is: 90\n",
            "Even number is: 92\n",
            "Even number is: 94\n",
            "Even number is: 96\n",
            "Even number is: 98\n"
          ]
        }
      ],
      "source": [
        "# 01_print_events\n",
        "def even():\n",
        "    for i in range(50):\n",
        "     print(\"Even number is:\",  i * 2)\n",
        "\n",
        "if __name__ == \"__main__\":\n",
        "    even()"
      ]
    },
    {
      "cell_type": "code",
      "source": [
        "# 02_international_voting_age\n",
        "\n",
        "Peturksbouipo: int = 16\n",
        "Stanlau:int = 25\n",
        "Mayengua:int = 48\n",
        "\n",
        "def main():\n",
        "    age:int = int(input(\"How old are you? \"))\n",
        "    if age >= Peturksbouipo:\n",
        "        print(f\"Your age {age} is eligible to vote in Peturksbouipo.\")\n",
        "    else:\n",
        "        print(f\"Your age {age} is not eligible to vote in Peturksbouipo.\")\n",
        "\n",
        "\n",
        "\n",
        "    if age >= Stanlau:\n",
        "        print(f\"Your age {age} is eligible to vote in Stanlau.\")\n",
        "    else:\n",
        "        print(f\"Your age {age} is not eligible to vote in Stanlau.\")\n",
        "\n",
        "\n",
        "\n",
        "    if age >= Mayengua:\n",
        "        print(f\"Your age {age} is eligible to vote in Mayengua.\")\n",
        "    else:\n",
        "        print(f\"Your age {age} is not eligible to vote in Mayengua.\")\n",
        "\n",
        "if __name__ == \"__main__\":\n",
        "    main()"
      ],
      "metadata": {
        "colab": {
          "base_uri": "https://localhost:8080/"
        },
        "id": "AUjCSpAvkNZN",
        "outputId": "52b7b3b3-caed-4d13-86ca-a8f3f31d9d45"
      },
      "execution_count": 2,
      "outputs": [
        {
          "output_type": "stream",
          "name": "stdout",
          "text": [
            "How old are you? 26\n",
            "Your age 26 is eligible to vote in Peturksbouipo.\n",
            "Your age 26 is eligible to vote in Stanlau.\n",
            "Your age 26 is not eligible to vote in Mayengua.\n"
          ]
        }
      ]
    },
    {
      "cell_type": "code",
      "source": [
        "# 03-leap-year\n",
        "def leap_year():\n",
        "    year: int = int(input(\"Enter a year: \"))\n",
        "\n",
        "    if year % 4 == 0:\n",
        "        if year % 100 == 0:\n",
        "            if year % 400 == 0:\n",
        "                print(f\"{year} That's a leap year!\")\n",
        "            else:\n",
        "                print(f\"{year} That's not a leap year.\")\n",
        "        else:\n",
        "            print(f\"{year} That's a leap year!\")\n",
        "    else:\n",
        "        print(f\"{year} That's not a leap year.\")\n",
        "\n",
        "if __name__ == \"__main__\":\n",
        "    leap_year()"
      ],
      "metadata": {
        "colab": {
          "base_uri": "https://localhost:8080/"
        },
        "id": "VkO_nNAmkUtu",
        "outputId": "ea80f4fc-7c91-4a74-930d-97fc24e0288c"
      },
      "execution_count": 3,
      "outputs": [
        {
          "output_type": "stream",
          "name": "stdout",
          "text": [
            "Enter a year: 2025\n",
            "2025 That's not a leap year.\n"
          ]
        }
      ]
    },
    {
      "cell_type": "code",
      "source": [
        "# 04_tall_enough_to_ride\n",
        "min_height:int = 50\n",
        "\n",
        "def main():\n",
        "  user:int = int (input(\"How tall are you: \"))\n",
        "  if user >= min_height:\n",
        "    print(f\"You're  tall enough to ride!\")\n",
        "  else:\n",
        "    print(f\"You're not tall enough to ride, but maybe next year!\")\n",
        "\n",
        "if __name__ == \"__main__\":\n",
        "  main()"
      ],
      "metadata": {
        "colab": {
          "base_uri": "https://localhost:8080/"
        },
        "id": "H9uoEEA6kXns",
        "outputId": "fb42628d-9ed7-42dc-b192-449587d37d65"
      },
      "execution_count": 4,
      "outputs": [
        {
          "output_type": "stream",
          "name": "stdout",
          "text": [
            "How tall are you: 50\n",
            "You're  tall enough to ride!\n"
          ]
        }
      ]
    },
    {
      "cell_type": "code",
      "source": [
        "# 05_random_numbers\n",
        "import random\n",
        "\n",
        "def main():\n",
        "    for i in range(10):\n",
        "        random_number:list[int] = random.randint(1, 100)\n",
        "        print(f\"Random number is: {random_number}\")\n",
        "\n",
        "if __name__ == \"__main__\":\n",
        "    main()"
      ],
      "metadata": {
        "colab": {
          "base_uri": "https://localhost:8080/"
        },
        "id": "mCLgMeR1kaQS",
        "outputId": "7edc230b-841d-41c7-85d4-8c2d6ed40712"
      },
      "execution_count": 5,
      "outputs": [
        {
          "output_type": "stream",
          "name": "stdout",
          "text": [
            "Random number is: 31\n",
            "Random number is: 9\n",
            "Random number is: 8\n",
            "Random number is: 14\n",
            "Random number is: 92\n",
            "Random number is: 9\n",
            "Random number is: 43\n",
            "Random number is: 77\n",
            "Random number is: 33\n",
            "Random number is: 74\n"
          ]
        }
      ]
    }
  ]
}