{
  "nbformat": 4,
  "nbformat_minor": 0,
  "metadata": {
    "colab": {
      "provenance": [],
      "authorship_tag": "ABX9TyMErLQGGAV6JYrnCsGwITlX",
      "include_colab_link": true
    },
    "kernelspec": {
      "name": "python3",
      "display_name": "Python 3"
    },
    "language_info": {
      "name": "python"
    }
  },
  "cells": [
    {
      "cell_type": "markdown",
      "metadata": {
        "id": "view-in-github",
        "colab_type": "text"
      },
      "source": [
        "<a href=\"https://colab.research.google.com/github/smahsan053/giaic_assignment_04/blob/main/countdown_timer.ipynb\" target=\"_parent\"><img src=\"https://colab.research.google.com/assets/colab-badge.svg\" alt=\"Open In Colab\"/></a>"
      ]
    },
    {
      "cell_type": "code",
      "execution_count": null,
      "metadata": {
        "id": "0LMRSkgzH_a8"
      },
      "outputs": [],
      "source": [
        "import time"
      ]
    },
    {
      "cell_type": "code",
      "source": [
        "def countdown(t):\n",
        "  while t:\n",
        "    mins, secs = divmod(t, 60)\n",
        "    timer = '{:02d}:{:02d}'.format(mins, secs)\n",
        "    print(timer, end=\"\\r\")\n",
        "    time.sleep(1)\n",
        "    t -= 1\n",
        "  print(\"Timer Completed!\")"
      ],
      "metadata": {
        "id": "g-ssDAlPIW-F"
      },
      "execution_count": null,
      "outputs": []
    },
    {
      "cell_type": "code",
      "source": [
        "t = input(\"Enter the time in seconds: \")\n",
        "countdown(int(t))"
      ],
      "metadata": {
        "colab": {
          "base_uri": "https://localhost:8080/"
        },
        "id": "6s7OQ-R0Jg-D",
        "outputId": "fb1adf59-dab4-4eea-d9a8-f3b5abd58708"
      },
      "execution_count": null,
      "outputs": [
        {
          "output_type": "stream",
          "name": "stdout",
          "text": [
            "Enter the time in seconds: 5\n",
            "Timer Completed!\n"
          ]
        }
      ]
    }
  ]
}