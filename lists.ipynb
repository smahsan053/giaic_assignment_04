{
  "nbformat": 4,
  "nbformat_minor": 0,
  "metadata": {
    "colab": {
      "provenance": [],
      "authorship_tag": "ABX9TyNOCrFNX2K//pAHf797uz0v",
      "include_colab_link": true
    },
    "kernelspec": {
      "name": "python3",
      "display_name": "Python 3"
    },
    "language_info": {
      "name": "python"
    }
  },
  "cells": [
    {
      "cell_type": "markdown",
      "metadata": {
        "id": "view-in-github",
        "colab_type": "text"
      },
      "source": [
        "<a href=\"https://colab.research.google.com/github/smahsan053/giaic_assignment_04/blob/main/lists.ipynb\" target=\"_parent\"><img src=\"https://colab.research.google.com/assets/colab-badge.svg\" alt=\"Open In Colab\"/></a>"
      ]
    },
    {
      "cell_type": "code",
      "execution_count": null,
      "metadata": {
        "colab": {
          "base_uri": "https://localhost:8080/"
        },
        "id": "gyJ6r-x8GZ_r",
        "outputId": "378321d3-1248-45eb-af47-3aeb624440d8"
      },
      "outputs": [
        {
          "output_type": "stream",
          "name": "stdout",
          "text": [
            "The sum of [1, 2, 3, 4, 5] is 15\n"
          ]
        }
      ],
      "source": [
        "# 01_add_many_number\n",
        "def add_number(numbers)-> int:\n",
        "    num:int = 0\n",
        "    for i in numbers:\n",
        "        num += i\n",
        "    return num\n",
        "\n",
        "def main():\n",
        "    numbers:list[list] = [1,2,3,4,5]\n",
        "    sum = add_number(numbers)\n",
        "    print(f\"The sum of {numbers} is {sum}\")\n",
        "\n",
        "if __name__ == \"__main__\":\n",
        "    main()"
      ]
    },
    {
      "cell_type": "code",
      "source": [
        "# 02_double_list\n",
        "def doule_list():\n",
        "    numbers:list[int] = [1,2,3,4,5]\n",
        "    for i in range(len(numbers)):\n",
        "        index = numbers[i]\n",
        "        numbers[i] = index * 2\n",
        "\n",
        "        print(f\"Doubling {index} to {numbers[i]}\")\n",
        "\n",
        "if __name__ == \"__main__\":\n",
        "    doule_list()"
      ],
      "metadata": {
        "colab": {
          "base_uri": "https://localhost:8080/"
        },
        "id": "VCbS9LGvG4O0",
        "outputId": "5aea7f18-ca87-41fe-d5c5-c312f0aefa1a"
      },
      "execution_count": null,
      "outputs": [
        {
          "output_type": "stream",
          "name": "stdout",
          "text": [
            "Doubling 1 to 2\n",
            "Doubling 2 to 4\n",
            "Doubling 3 to 6\n",
            "Doubling 4 to 8\n",
            "Doubling 5 to 10\n"
          ]
        }
      ]
    },
    {
      "cell_type": "code",
      "source": [
        "# 03_erase_canvas\n",
        "import pygame\n",
        "import time\n",
        "\n",
        "pygame.init()\n",
        "\n",
        "CANVA_WIDTH = 400\n",
        "CANVAS_HEIGHT = 400\n",
        "CELL_SIZE = 40\n",
        "ERASER_SIZE = 20\n",
        "\n",
        "BLUE = (0, 0, 255)\n",
        "WHITE = (255, 255, 255)\n",
        "PINK = (255, 192, 203)\n",
        "\n",
        "screen = pygame.display.set_mode((CANVA_WIDTH, CANVAS_HEIGHT))\n",
        "pygame.display.set_caption(\"Erase Canvas\")\n",
        "\n",
        "grid = []\n",
        "for row in range (0, CANVAS_HEIGHT, CELL_SIZE):\n",
        "    for col in range (0, CANVA_WIDTH, CELL_SIZE):\n",
        "        rect = pygame.Rect(col, row, CELL_SIZE, CELL_SIZE)\n",
        "        grid.append(rect)\n",
        "\n",
        "eraser = pygame.Rect(200, 200, ERASER_SIZE, ERASER_SIZE)\n",
        "\n",
        "running = True\n",
        "while running:\n",
        "    screen.fill(WHITE)\n",
        "    for rect in grid:\n",
        "        pygame.draw.rect(screen, BLUE, rect, 1)\n",
        "\n",
        "    mouse_x , mouse_y = pygame.mouse.get_pos()\n",
        "    eraser.topleft = (mouse_x , mouse_y)\n",
        "\n",
        "    new_grid = []\n",
        "    for rect in grid:\n",
        "        if not eraser.colliderect(rect):\n",
        "            new_grid.append(rect)\n",
        "    grid = new_grid\n",
        "\n",
        "    pygame.draw.rect(screen, PINK, eraser)\n",
        "\n",
        "    for event in pygame.event.get():\n",
        "        if event.type == pygame.QUIT:\n",
        "            running = False\n",
        "\n",
        "    pygame.display.flip()\n",
        "    time.sleep(0.05)\n",
        "\n",
        "pygame.quit()"
      ],
      "metadata": {
        "colab": {
          "base_uri": "https://localhost:8080/",
          "height": 245
        },
        "id": "d4mwoyNoG_-Z",
        "outputId": "4ca0e04e-ff48-4808-93be-a18c7f92fea2"
      },
      "execution_count": 3,
      "outputs": [
        {
          "metadata": {
            "tags": null
          },
          "name": "stdout",
          "output_type": "stream",
          "text": [
            "pygame 2.6.1 (SDL 2.28.4, Python 3.11.12)\n",
            "Hello from the pygame community. https://www.pygame.org/contribute.html\n"
          ]
        },
        {
          "output_type": "error",
          "ename": "KeyboardInterrupt",
          "evalue": "",
          "traceback": [
            "\u001b[0;31m---------------------------------------------------------------------------\u001b[0m",
            "\u001b[0;31mKeyboardInterrupt\u001b[0m                         Traceback (most recent call last)",
            "\u001b[0;32m<ipython-input-3-346e35a6cece>\u001b[0m in \u001b[0;36m<cell line: 0>\u001b[0;34m()\u001b[0m\n\u001b[1;32m     47\u001b[0m \u001b[0;34m\u001b[0m\u001b[0m\n\u001b[1;32m     48\u001b[0m     \u001b[0mpygame\u001b[0m\u001b[0;34m.\u001b[0m\u001b[0mdisplay\u001b[0m\u001b[0;34m.\u001b[0m\u001b[0mflip\u001b[0m\u001b[0;34m(\u001b[0m\u001b[0;34m)\u001b[0m\u001b[0;34m\u001b[0m\u001b[0;34m\u001b[0m\u001b[0m\n\u001b[0;32m---> 49\u001b[0;31m     \u001b[0mtime\u001b[0m\u001b[0;34m.\u001b[0m\u001b[0msleep\u001b[0m\u001b[0;34m(\u001b[0m\u001b[0;36m0.05\u001b[0m\u001b[0;34m)\u001b[0m\u001b[0;34m\u001b[0m\u001b[0;34m\u001b[0m\u001b[0m\n\u001b[0m\u001b[1;32m     50\u001b[0m \u001b[0;34m\u001b[0m\u001b[0m\n\u001b[1;32m     51\u001b[0m \u001b[0mpygame\u001b[0m\u001b[0;34m.\u001b[0m\u001b[0mquit\u001b[0m\u001b[0;34m(\u001b[0m\u001b[0;34m)\u001b[0m\u001b[0;34m\u001b[0m\u001b[0;34m\u001b[0m\u001b[0m\n",
            "\u001b[0;31mKeyboardInterrupt\u001b[0m: "
          ]
        }
      ]
    },
    {
      "cell_type": "code",
      "source": [
        "# 04_flowing_with_data_structures\n",
        "def add_three_copies(lst, data):\n",
        "    for i in range(3):\n",
        "        lst.append(data)\n",
        "\n",
        "def main():\n",
        "    message = input(\"Enter a message to copy. \")\n",
        "    lst = []\n",
        "    print(\"Before list:\", lst)\n",
        "    add_three_copies(lst, message)\n",
        "    print(\"After list:\", lst)\n",
        "\n",
        "if main() == \"__main__\":\n",
        "    main()"
      ],
      "metadata": {
        "id": "sOKqIJJVHB2Z",
        "colab": {
          "base_uri": "https://localhost:8080/"
        },
        "outputId": "cc6ff2ab-9bcb-480e-a6a1-d0cf6fbcc1e7"
      },
      "execution_count": 4,
      "outputs": [
        {
          "output_type": "stream",
          "name": "stdout",
          "text": [
            "Enter a message to copy. let's play\n",
            "Before list: []\n",
            "After list: [\"let's play\", \"let's play\", \"let's play\"]\n"
          ]
        }
      ]
    },
    {
      "cell_type": "code",
      "source": [
        "# 05_get_first_element\n",
        "def get_first_element(lst):\n",
        "    print(lst[0])\n",
        "\n",
        "def get_lst():\n",
        "    lst = []\n",
        "    elem:str = input(\"Enter a element to add to the list: \")\n",
        "    while elem != \"\":\n",
        "        lst.append(elem)\n",
        "        elem = input(\"Enter a element to add to the list: \")\n",
        "        return lst\n",
        "\n",
        "def main():\n",
        "    lst = get_lst()\n",
        "    get_first_element(lst)\n",
        "\n",
        "if __name__ == \"__main__\":\n",
        "    main()\n"
      ],
      "metadata": {
        "id": "IoxbZK--HIs9",
        "colab": {
          "base_uri": "https://localhost:8080/"
        },
        "outputId": "a4472b38-3dcb-4d45-ebea-247689df6702"
      },
      "execution_count": 5,
      "outputs": [
        {
          "output_type": "stream",
          "name": "stdout",
          "text": [
            "Enter a element to add to the list: Mango\n",
            "Enter a element to add to the list: Apple\n",
            "Mango\n"
          ]
        }
      ]
    },
    {
      "cell_type": "code",
      "source": [
        "# 06_get_last_element\n",
        "def get_last_element(lst):\n",
        "    print(lst[-1])\n",
        "\n",
        "\n",
        "def get_lst():\n",
        "    lst = []\n",
        "    elem: str = input(\"Enter a element to add to the list: \")\n",
        "    while elem != \"\":\n",
        "        lst.append(elem)\n",
        "        elem = input(\"Enter a element to add to the list: \")\n",
        "    return lst\n",
        "\n",
        "\n",
        "def main():\n",
        "    lst = get_lst()\n",
        "    get_last_element(lst)\n",
        "\n",
        "if __name__ == \"__main__\":\n",
        "    main()\n"
      ],
      "metadata": {
        "id": "KLQBXMZKHcb8",
        "colab": {
          "base_uri": "https://localhost:8080/"
        },
        "outputId": "bdd72a3a-7be7-42cc-8d68-ff61fb64f5bd"
      },
      "execution_count": 6,
      "outputs": [
        {
          "output_type": "stream",
          "name": "stdout",
          "text": [
            "Enter a element to add to the list: Apple\n",
            "Enter a element to add to the list: Mango\n",
            "Enter a element to add to the list: PineApple\n",
            "Enter a element to add to the list: Banana\n",
            "Enter a element to add to the list: \"\"\n",
            "Enter a element to add to the list: \n",
            "\"\"\n"
          ]
        }
      ]
    },
    {
      "cell_type": "code",
      "source": [
        "# 07_get_list\n",
        "def main():\n",
        "    lst = []\n",
        "    val = input(\"Enter a value to add to the list. \")\n",
        "    while val != \"\":\n",
        "        lst.append(val)\n",
        "        val = input(\"Enter a value to add to the list. \")\n",
        "    print(\"Here is the list:\", lst)\n",
        "\n",
        "if __name__ == \"__main__\":\n",
        "    main()"
      ],
      "metadata": {
        "id": "pxKoBovCHgMY",
        "colab": {
          "base_uri": "https://localhost:8080/"
        },
        "outputId": "b99299dd-88a0-47ad-fb51-5f38182cad1a"
      },
      "execution_count": 7,
      "outputs": [
        {
          "output_type": "stream",
          "name": "stdout",
          "text": [
            "Enter a value to add to the list. 8\n",
            "Enter a value to add to the list. 4\n",
            "Enter a value to add to the list. 6\n",
            "Enter a value to add to the list. \n",
            "Here is the list: ['8', '4', '6']\n"
          ]
        }
      ]
    },
    {
      "cell_type": "code",
      "source": [
        "# 08_shorten\n",
        "MAX_LENGTH: int = 3\n",
        "def shorten(lst):\n",
        "    while len(lst) >= MAX_LENGTH:\n",
        "        last_element = lst.pop()\n",
        "        print(f\"Removing {last_element} from list.\")\n",
        "\n",
        "def get_lst():\n",
        "    lst = []\n",
        "    element = input(\"Enter a element to add to the list: \")\n",
        "    while element != \"\":\n",
        "        lst.append(element)\n",
        "        element = input(\"Enter a element to add to the list: \")\n",
        "    return lst\n",
        "\n",
        "def main():\n",
        "    lst = get_lst()\n",
        "    shorten(lst)\n",
        "\n",
        "if __name__ == \"__main__\":\n",
        "    main()\n"
      ],
      "metadata": {
        "id": "sJMfn6fgHjdG",
        "colab": {
          "base_uri": "https://localhost:8080/"
        },
        "outputId": "d55cd8ae-0a99-413a-b636-834ce07a2a0e"
      },
      "execution_count": 8,
      "outputs": [
        {
          "output_type": "stream",
          "name": "stdout",
          "text": [
            "Enter a element to add to the list: 4\n",
            "Enter a element to add to the list: 6\n",
            "Enter a element to add to the list: 8\n",
            "Enter a element to add to the list: \n",
            "Removing 8 from list.\n"
          ]
        }
      ]
    }
  ]
}