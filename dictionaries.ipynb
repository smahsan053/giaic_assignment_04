{
  "nbformat": 4,
  "nbformat_minor": 0,
  "metadata": {
    "colab": {
      "provenance": [],
      "authorship_tag": "ABX9TyPUQu9wOaFuzlDMhOaLHuQj",
      "include_colab_link": true
    },
    "kernelspec": {
      "name": "python3",
      "display_name": "Python 3"
    },
    "language_info": {
      "name": "python"
    }
  },
  "cells": [
    {
      "cell_type": "markdown",
      "metadata": {
        "id": "view-in-github",
        "colab_type": "text"
      },
      "source": [
        "<a href=\"https://colab.research.google.com/github/smahsan053/giaic_assignment_04/blob/main/dictionaries.ipynb\" target=\"_parent\"><img src=\"https://colab.research.google.com/assets/colab-badge.svg\" alt=\"Open In Colab\"/></a>"
      ]
    },
    {
      "cell_type": "code",
      "execution_count": 1,
      "metadata": {
        "colab": {
          "base_uri": "https://localhost:8080/"
        },
        "id": "QO_ZE0aplDPR",
        "outputId": "c493597c-c013-4abc-b168-d1c3f53e36f0"
      },
      "outputs": [
        {
          "output_type": "stream",
          "name": "stdout",
          "text": [
            "Enter a number or 'Exit' to quit: 4\n",
            "Enter a number or 'Exit' to quit: 8\n",
            "Enter a number or 'Exit' to quit: 6\n",
            "Enter a number or 'Exit' to quit: quit\n",
            "Invalid input. Please enter a number or 'Exit'.\n",
            "Enter a number or 'Exit' to quit: exit\n",
            "\n",
            "Number Count:\n",
            "4 appears 1 times\n",
            "8 appears 1 times\n",
            "6 appears 1 times\n"
          ]
        }
      ],
      "source": [
        "# 00_count_nums\n",
        "def count_number():\n",
        "    count_dict = {}\n",
        "    while True:\n",
        "        user_input = input(\"Enter a number or 'Exit' to quit: \")\n",
        "\n",
        "        if user_input.title() == 'Exit':\n",
        "            break\n",
        "        elif user_input.isdigit():\n",
        "            num = int(user_input)\n",
        "            count_dict[num] = count_dict.get(num, 0) + 1\n",
        "        else:\n",
        "            print(\"Invalid input. Please enter a number or 'Exit'.\")\n",
        "\n",
        "    return count_dict\n",
        "\n",
        "def display_count(count_dict):\n",
        "    print(\"\\nNumber Count:\")\n",
        "    for key, value in count_dict.items():\n",
        "        print(f\"{key} appears {value} times\")\n",
        "\n",
        "if __name__ == \"__main__\":\n",
        "    count_dict = count_number()\n",
        "    display_count(count_dict)\n",
        ""
      ]
    },
    {
      "cell_type": "code",
      "source": [
        "# 01_phonebook\n",
        "def add_contact(phonebook):\n",
        "    name = input(\"Enter contact name: \")\n",
        "    number = input(\"Enter contact contact number: \")\n",
        "    if name in phonebook:\n",
        "        print(f\"Contact {name} already exists.\")\n",
        "    else:\n",
        "        phonebook[name] = number\n",
        "        print(f\"Contact {name} added to the phonebook.\")\n",
        "\n",
        "\n",
        "\n",
        "def search_contact(phonebook):\n",
        "    name = input(\"Enter contact name to search: \")\n",
        "    if name in phonebook:\n",
        "        print(f\"Contact {name}: {phonebook[name]}\")\n",
        "    else:\n",
        "        print(f\"Contact {name} not found.\")\n",
        "\n",
        "\n",
        "\n",
        "def delete_contact(phonebook):\n",
        "    name = input(\"Enter contact name to delete: \")\n",
        "    if name in phonebook:\n",
        "        del phonebook[name]\n",
        "        print(f\"Contact {name} deleted from the phonebook.\")\n",
        "    else:\n",
        "        print(f\"Contact {name} not found.\")\n",
        "\n",
        "\n",
        "\n",
        "def display_contact(phonebook):\n",
        "    if phonebook:\n",
        "        print(\"\\n Phonebok Contact list:\")\n",
        "        for name, number in phonebook.items():\n",
        "            print(f\"{name}: {number}\")\n",
        "    else:\n",
        "        print(\"Phonebook is empty.\")\n",
        "\n",
        "if __name__ == \"__main__\":\n",
        "    phonebook = {}\n",
        "    while True:\n",
        "        print(\"\\nPhonebook Menu:\")\n",
        "        print(\"1. Add Contact\")\n",
        "        print(\"2. Search Contact\")\n",
        "        print(\"3. Delete Contact\")\n",
        "        print(\"4. Display Contacts\")\n",
        "        print(\"5. Exit\")\n",
        "\n",
        "        choice = input(\"Enter your choice (1-5): \")\n",
        "\n",
        "        if choice == '1':\n",
        "            add_contact(phonebook)\n",
        "        elif choice == '2':\n",
        "            search_contact(phonebook)\n",
        "        elif choice == '3':\n",
        "            delete_contact(phonebook)\n",
        "        elif choice == '4':\n",
        "            display_contact(phonebook)\n",
        "        elif choice == '5':\n",
        "            print(\"Exiting the phonebook.\")\n",
        "            break\n",
        "        else:\n",
        "            print(\"Invalid choice. Please try again.\")\n",
        "\n",
        ""
      ],
      "metadata": {
        "colab": {
          "base_uri": "https://localhost:8080/"
        },
        "id": "Mmw6hC2RlPAA",
        "outputId": "5996bc54-b511-43a4-94cb-c876c9a9df1b"
      },
      "execution_count": 2,
      "outputs": [
        {
          "output_type": "stream",
          "name": "stdout",
          "text": [
            "\n",
            "Phonebook Menu:\n",
            "1. Add Contact\n",
            "2. Search Contact\n",
            "3. Delete Contact\n",
            "4. Display Contacts\n",
            "5. Exit\n",
            "Enter your choice (1-5): 2\n",
            "Enter contact name to search: Ahsan\n",
            "Contact Ahsan not found.\n",
            "\n",
            "Phonebook Menu:\n",
            "1. Add Contact\n",
            "2. Search Contact\n",
            "3. Delete Contact\n",
            "4. Display Contacts\n",
            "5. Exit\n",
            "Enter your choice (1-5): xit\n",
            "Invalid choice. Please try again.\n",
            "\n",
            "Phonebook Menu:\n",
            "1. Add Contact\n",
            "2. Search Contact\n",
            "3. Delete Contact\n",
            "4. Display Contacts\n",
            "5. Exit\n",
            "Enter your choice (1-5): Exit\n",
            "Invalid choice. Please try again.\n",
            "\n",
            "Phonebook Menu:\n",
            "1. Add Contact\n",
            "2. Search Contact\n",
            "3. Delete Contact\n",
            "4. Display Contacts\n",
            "5. Exit\n",
            "Enter your choice (1-5): 5\n",
            "Exiting the phonebook.\n"
          ]
        }
      ]
    },
    {
      "cell_type": "code",
      "source": [
        "# 02_pop_up_shop\n",
        "def calculate_total_cost():\n",
        "    fruits_price = {\n",
        "        \"apple\": 5.0,\n",
        "        \"mangoes\": 15.0,\n",
        "        \"kiwi\": 8.0,\n",
        "        \"pear\": 12.0,\n",
        "        \"banana\": 6.0,\n",
        "        \"orange\": 10.0\n",
        "    }\n",
        "\n",
        "    total_cost = 0\n",
        "    for fruit, price in fruits_price.items():\n",
        "        while True:\n",
        "            try:\n",
        "                quantity = int(input(f\"How many {fruit}s do you want? \"))\n",
        "                if quantity < 0:\n",
        "                    print(\"Invalid input. Please enter a non-negative number.\")\n",
        "                    continue\n",
        "                total_cost += quantity * price\n",
        "                break\n",
        "            except ValueError:\n",
        "                print(\"Invalid input. Please enter a number.\")\n",
        "\n",
        "    print(f\"\\nYour total cost is: ${total_cost:.2f}\")\n",
        "\n",
        "if __name__ == \"__main__\":\n",
        "    calculate_total_cost()\n",
        ""
      ],
      "metadata": {
        "colab": {
          "base_uri": "https://localhost:8080/"
        },
        "id": "b1MM_nrHlU3s",
        "outputId": "8bf69e87-2e6a-4479-f717-53314593aa7d"
      },
      "execution_count": 3,
      "outputs": [
        {
          "output_type": "stream",
          "name": "stdout",
          "text": [
            "How many apples do you want? 5\n",
            "How many mangoess do you want? 4\n",
            "How many kiwis do you want? 9\n",
            "How many pears do you want? 2\n",
            "How many bananas do you want? 1\n",
            "How many oranges do you want? 0\n",
            "\n",
            "Your total cost is: $187.00\n"
          ]
        }
      ]
    },
    {
      "cell_type": "code",
      "source": [
        "# 03_powerful_passwords\n",
        "import hashlib\n",
        "def hash_password(password):\n",
        "    return hashlib.sha256(password.encode()).hexdigest()\n",
        "\n",
        "stored_logins = {\n",
        "    \"user@example.com\": hash_password(\"password123\"),\n",
        "    \"admin@example.com\": hash_password(\"adminpass\"),\n",
        "}\n",
        "\n",
        "def login(email, password):\n",
        "    if email in stored_logins:\n",
        "        return stored_logins[email] == hash_password(password)\n",
        "    return False\n",
        "\n",
        "if __name__ == \"__main__\":\n",
        "    email = input(\"Enter your email: \")\n",
        "    password = input(\"Enter your password: \")\n",
        "\n",
        "    if login(email, password):\n",
        "        print(\"Login successful!\")\n",
        "    else:\n",
        "        print(\"Invalid email or password.\")"
      ],
      "metadata": {
        "colab": {
          "base_uri": "https://localhost:8080/"
        },
        "id": "9BIFyM9WlaeW",
        "outputId": "af764e19-905c-4bd4-9cd3-f874c1fa9dc1"
      },
      "execution_count": 5,
      "outputs": [
        {
          "output_type": "stream",
          "name": "stdout",
          "text": [
            "Enter your email: admin@example.com\n",
            "Enter your password: adminpass\n",
            "Login successful!\n"
          ]
        }
      ]
    }
  ]
}