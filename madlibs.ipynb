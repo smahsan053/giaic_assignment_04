{
  "nbformat": 4,
  "nbformat_minor": 0,
  "metadata": {
    "colab": {
      "provenance": [],
      "toc_visible": true,
      "authorship_tag": "ABX9TyMMTkbVFsB0I2Kw43dy7b6T",
      "include_colab_link": true
    },
    "kernelspec": {
      "name": "python3",
      "display_name": "Python 3"
    },
    "language_info": {
      "name": "python"
    }
  },
  "cells": [
    {
      "cell_type": "markdown",
      "metadata": {
        "id": "view-in-github",
        "colab_type": "text"
      },
      "source": [
        "<a href=\"https://colab.research.google.com/github/smahsan053/giaic_assignment_04/blob/main/madlibs.ipynb\" target=\"_parent\"><img src=\"https://colab.research.google.com/assets/colab-badge.svg\" alt=\"Open In Colab\"/></a>"
      ]
    },
    {
      "cell_type": "markdown",
      "source": [
        "# **Python: Mad libs Project**\n",
        "\n",
        "---\n"
      ],
      "metadata": {
        "id": "VJvqqzYXJvNv"
      }
    },
    {
      "cell_type": "code",
      "source": [
        "print(\"Python Mad libs Project\\nA Crazy Day\")"
      ],
      "metadata": {
        "colab": {
          "base_uri": "https://localhost:8080/"
        },
        "id": "fxZ9d4ajPaBF",
        "outputId": "e0fca3db-ebe3-4466-a8fb-ea8e4218c87a"
      },
      "execution_count": null,
      "outputs": [
        {
          "output_type": "stream",
          "name": "stdout",
          "text": [
            "Python Mad libs Project\n",
            "A Crazy Day\n"
          ]
        }
      ]
    },
    {
      "cell_type": "code",
      "source": [
        "print(\"Guess Words to complete story\")"
      ],
      "metadata": {
        "colab": {
          "base_uri": "https://localhost:8080/"
        },
        "id": "WGjrGuTxQZ2U",
        "outputId": "1627a534-7d0d-4a88-ea28-510d0a5b1d96"
      },
      "execution_count": null,
      "outputs": [
        {
          "output_type": "stream",
          "name": "stdout",
          "text": [
            "Guess Words to complete story\n"
          ]
        }
      ]
    },
    {
      "cell_type": "code",
      "source": [
        "adjective = input(\"Adjective: \")\n",
        "animal_name = input(\"Name (Animal): \")\n",
        "action_verb = input(\"Verb: \")\n",
        "noun = input(\"Noun: \")\n",
        "object_name = input(\"Object: \")\n",
        "person_name = input(\"Name (Person): \")\n",
        "clothing_adjective = input(\"Adjective (Clothing-related): \")\n",
        "second_verb = input(\"Verb: \")\n",
        "adjective2 = input(\"Adjective: \")"
      ],
      "metadata": {
        "colab": {
          "base_uri": "https://localhost:8080/"
        },
        "id": "yPlwuV8dQlhU",
        "outputId": "b7770776-07e4-49cb-e708-556f87bfcd39"
      },
      "execution_count": null,
      "outputs": [
        {
          "name": "stdout",
          "output_type": "stream",
          "text": [
            "Adjective: Excited\n",
            "Name (Animal): Goat\n",
            "Verb: Playing\n",
            "Noun: Yard\n",
            "Object: Umberella\n",
            "Name (Person): Ali\n",
            "Adjective (Clothing-related): Blue shirt\n",
            "Verb: skydiving\n",
            "Adjective: unbelieveable\n"
          ]
        }
      ]
    },
    {
      "cell_type": "code",
      "source": [
        "story = f\"Today, I woke up feeling {adjective}. I looked outside and saw a {animal_name} {action_verb} on my {noun}! I grabbed my {object_name} and ran outside. Suddenly, my best friend {person_name} showed up wearing a {clothing_adjective} and said, \\\"Let's go {second_verb}!\\\" It was the most {adjective2} day ever!\""
      ],
      "metadata": {
        "id": "5L7D6VsBSmE6"
      },
      "execution_count": null,
      "outputs": []
    },
    {
      "cell_type": "code",
      "source": [
        "print(story)"
      ],
      "metadata": {
        "colab": {
          "base_uri": "https://localhost:8080/"
        },
        "id": "pmIJg3lXTtVT",
        "outputId": "3f6d19ea-e1bc-4945-d802-6f11425526f9"
      },
      "execution_count": null,
      "outputs": [
        {
          "output_type": "stream",
          "name": "stdout",
          "text": [
            "Today, I woke up feeling Excited. I looked outside and saw a Goat Playing on my Yard! I grabbed my Umberella and ran outside. Suddenly, my best friend Ali showed up wearing a Blue shirt and said, \"Let's go skydiving!\" It was the most unbelieveable day ever!\n"
          ]
        }
      ]
    }
  ]
}