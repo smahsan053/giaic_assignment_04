{
  "nbformat": 4,
  "nbformat_minor": 0,
  "metadata": {
    "colab": {
      "provenance": [],
      "authorship_tag": "ABX9TyPL5ZTrFwW68WZFmnZyYfKc",
      "include_colab_link": true
    },
    "kernelspec": {
      "name": "python3",
      "display_name": "Python 3"
    },
    "language_info": {
      "name": "python"
    }
  },
  "cells": [
    {
      "cell_type": "markdown",
      "metadata": {
        "id": "view-in-github",
        "colab_type": "text"
      },
      "source": [
        "<a href=\"https://colab.research.google.com/github/smahsan053/giaic_assignment_04/blob/main/intro_python.ipynb\" target=\"_parent\"><img src=\"https://colab.research.google.com/assets/colab-badge.svg\" alt=\"Open In Colab\"/></a>"
      ]
    },
    {
      "cell_type": "code",
      "execution_count": 1,
      "metadata": {
        "colab": {
          "base_uri": "https://localhost:8080/"
        },
        "id": "sA1NsRzp_DAS",
        "outputId": "820207de-317f-4282-fe0c-c6362aa5fc09"
      },
      "outputs": [
        {
          "output_type": "stream",
          "name": "stdout",
          "text": [
            "This program adds two numbers.\n",
            "Enter first number: 2\n",
            "Enter second number: 2\n",
            "The total is 4.\n"
          ]
        }
      ],
      "source": [
        "# 01_add_two_numbers\n",
        "\n",
        "def main():\n",
        "    print(\"This program adds two numbers.\")\n",
        "    num1 : str = input(\"Enter first number: \")\n",
        "    num1 : int = int(num1)\n",
        "    num2  : str = input(\"Enter second number: \")\n",
        "    num2 : int = int(num2)\n",
        "    total : int = num1 + num2\n",
        "    print(\"The total is \" + str(total) + \".\")\n",
        "\n",
        "\n",
        "if __name__ == '__main__':\n",
        "    main()"
      ]
    },
    {
      "cell_type": "code",
      "source": [
        "# 02_agreement_bot\n",
        "def main():\n",
        "    favorite_animal = input(\"What's your favorite animal? \")\n",
        "    print(f\"My favorite animal is also {favorite_animal}!\")\n",
        "\n",
        "if __name__ == '__main__':\n",
        "    main()"
      ],
      "metadata": {
        "colab": {
          "base_uri": "https://localhost:8080/"
        },
        "id": "DbUMH064_Se-",
        "outputId": "1575376d-7cb5-4d71-94d5-7dee78e12d06"
      },
      "execution_count": 2,
      "outputs": [
        {
          "output_type": "stream",
          "name": "stdout",
          "text": [
            "What's your favorite animal? myself\n",
            "My favorite animal is also myself!\n"
          ]
        }
      ]
    },
    {
      "cell_type": "code",
      "source": [
        "# 03_fahrenheit_to_celsius\n",
        "def main():\n",
        "    degrees_fahrenheit = float(input(\"Enter temperature in Fahrenheit: \"))\n",
        "    degrees_celsius = (degrees_fahrenheit - 32) * 5.0 / 9.0\n",
        "\n",
        "    print(f\"Temperature: {degrees_fahrenheit}F = {degrees_celsius}C\")\n",
        "\n",
        "if __name__ == '__main__':\n",
        "    main()"
      ],
      "metadata": {
        "colab": {
          "base_uri": "https://localhost:8080/"
        },
        "id": "17-K1NwP_qMe",
        "outputId": "6f969ed9-f37f-4337-bfad-d46d1d140f5d"
      },
      "execution_count": 4,
      "outputs": [
        {
          "output_type": "stream",
          "name": "stdout",
          "text": [
            "Enter temperature in Fahrenheit: 92\n",
            "Temperature: 92.0F = 33.333333333333336C\n"
          ]
        }
      ]
    },
    {
      "cell_type": "code",
      "source": [
        "# 04_how_old_are_they\n",
        "def add_ages():\n",
        "    anthon:int = 21\n",
        "    beth:int = anthon + 6\n",
        "    chen:int = beth + 20\n",
        "    drew: int = chen + anthon\n",
        "    ethan: int = chen\n",
        "\n",
        "    print(\"Anthon is \" + str(anthon))\n",
        "    print(\"Beth is \" + str(beth))\n",
        "    print(\"Chen is \" + str(chen))\n",
        "    print(\"Drew is \" + str(drew))\n",
        "    print(\"Ethan is \" + str(ethan))\n",
        "\n",
        "if __name__ == '__main__':\n",
        "    add_ages()\n"
      ],
      "metadata": {
        "colab": {
          "base_uri": "https://localhost:8080/"
        },
        "id": "RdtkhuHE_4QE",
        "outputId": "bfe440f9-5af7-4a68-9765-962b1401a222"
      },
      "execution_count": 5,
      "outputs": [
        {
          "output_type": "stream",
          "name": "stdout",
          "text": [
            "Anthon is 21\n",
            "Beth is 27\n",
            "Chen is 47\n",
            "Drew is 68\n",
            "Ethan is 47\n"
          ]
        }
      ]
    },
    {
      "cell_type": "code",
      "source": [
        "def perimeter_of_triangle():\n",
        "    print(\"Enter the lengths of the three sides of the triangle:\")\n",
        "    side1: float = float(input(\"Enter side 1 of your triangle: \"))\n",
        "    side2: float = float(input(\"Enter side 2 of your triangle: \"))\n",
        "    side3: float = float(input(\"Enter side 3 of your triangle: \"))\n",
        "    perimeter_of_triangle :float = float( side1 + side2 + side3 )\n",
        "\n",
        "    print(f\"The perimeter of the triangle is: {perimeter_of_triangle}\")\n",
        "\n",
        "if __name__ == \"__main__\":\n",
        "    perimeter_of_triangle()"
      ],
      "metadata": {
        "colab": {
          "base_uri": "https://localhost:8080/"
        },
        "id": "ZFgn3t7kAHct",
        "outputId": "af3325a6-4f90-46d6-d35c-e58a79804263"
      },
      "execution_count": 7,
      "outputs": [
        {
          "output_type": "stream",
          "name": "stdout",
          "text": [
            "Enter the lengths of the three sides of the triangle:\n",
            "Enter side 1 of your triangle: 6\n",
            "Enter side 2 of your triangle: 4\n",
            "Enter side 3 of your triangle: 6\n",
            "The perimeter of the triangle is: 16.0\n"
          ]
        }
      ]
    },
    {
      "cell_type": "code",
      "source": [
        "# 06_square_number\n",
        "def square_number():\n",
        "    number: float = float(input(\"Enter a number to square:\"))\n",
        "    number: float = float(number * number)\n",
        "    print(f\"The square of the number is: {number}\")\n",
        "\n",
        "if __name__ == \"__main__\":\n",
        "    square_number()"
      ],
      "metadata": {
        "colab": {
          "base_uri": "https://localhost:8080/"
        },
        "id": "1Q4MHH5MAYxC",
        "outputId": "6b8b18d2-c247-487d-a158-2640e25dad08"
      },
      "execution_count": 8,
      "outputs": [
        {
          "output_type": "stream",
          "name": "stdout",
          "text": [
            "Enter a number to square:5\n",
            "The square of the number is: 25.0\n"
          ]
        }
      ]
    }
  ]
}