{
  "nbformat": 4,
  "nbformat_minor": 0,
  "metadata": {
    "colab": {
      "provenance": [],
      "authorship_tag": "ABX9TyOELnajET2ZlVQlTUjeHXuw",
      "include_colab_link": true
    },
    "kernelspec": {
      "name": "python3",
      "display_name": "Python 3"
    },
    "language_info": {
      "name": "python"
    }
  },
  "cells": [
    {
      "cell_type": "markdown",
      "metadata": {
        "id": "view-in-github",
        "colab_type": "text"
      },
      "source": [
        "<a href=\"https://colab.research.google.com/github/smahsan053/giaic_assignment_04/blob/main/number_guessing_game_(user).ipynb\" target=\"_parent\"><img src=\"https://colab.research.google.com/assets/colab-badge.svg\" alt=\"Open In Colab\"/></a>"
      ]
    },
    {
      "cell_type": "code",
      "execution_count": null,
      "metadata": {
        "id": "qBO8BQr0ga5-"
      },
      "outputs": [],
      "source": [
        "import random"
      ]
    },
    {
      "cell_type": "code",
      "source": [
        "def computer_guess(x):\n",
        "    low = 1\n",
        "    high = x\n",
        "    feedback = ''\n",
        "    while feedback != 'c':\n",
        "        if low != high:\n",
        "            guess = random.randint(low, high)\n",
        "        else:\n",
        "            guess = low\n",
        "        feedback = input(f'Is {guess} too high (H), too low (L), or correct (C)? ').lower()\n",
        "        if feedback == 'h':\n",
        "            high = guess - 1\n",
        "        elif feedback == 'l':\n",
        "            low = guess + 1\n",
        "    print(f'Yay! The computer guessed your number, {guess}, correctly!')"
      ],
      "metadata": {
        "id": "vYYRnC8Ogg88"
      },
      "execution_count": null,
      "outputs": []
    },
    {
      "cell_type": "code",
      "source": [
        "computer_guess(10)"
      ],
      "metadata": {
        "colab": {
          "base_uri": "https://localhost:8080/"
        },
        "id": "Ns6DVOYx7Jbg",
        "outputId": "cfb76545-3710-45e2-de9f-aa4110d0ec44"
      },
      "execution_count": null,
      "outputs": [
        {
          "output_type": "stream",
          "name": "stdout",
          "text": [
            "Is 10 too high (H), too low (L), or correct (C)? h\n",
            "Is 9 too high (H), too low (L), or correct (C)? h\n",
            "Is 1 too high (H), too low (L), or correct (C)? l\n",
            "Is 2 too high (H), too low (L), or correct (C)? l\n",
            "Is 3 too high (H), too low (L), or correct (C)? l\n",
            "Is 6 too high (H), too low (L), or correct (C)? h\n",
            "Is 5 too high (H), too low (L), or correct (C)? c\n",
            "Yay! The computer guessed your number, 5, correctly!\n"
          ]
        }
      ]
    }
  ]
}