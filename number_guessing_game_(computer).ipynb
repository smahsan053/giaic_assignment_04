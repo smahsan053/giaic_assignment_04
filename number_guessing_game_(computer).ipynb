{
  "nbformat": 4,
  "nbformat_minor": 0,
  "metadata": {
    "colab": {
      "provenance": [],
      "authorship_tag": "ABX9TyMFyuISGbY9y2xs3t7487sd",
      "include_colab_link": true
    },
    "kernelspec": {
      "name": "python3",
      "display_name": "Python 3"
    },
    "language_info": {
      "name": "python"
    }
  },
  "cells": [
    {
      "cell_type": "markdown",
      "metadata": {
        "id": "view-in-github",
        "colab_type": "text"
      },
      "source": [
        "<a href=\"https://colab.research.google.com/github/smahsan053/giaic_assignment_04/blob/main/number_guessing_game_(computer).ipynb\" target=\"_parent\"><img src=\"https://colab.research.google.com/assets/colab-badge.svg\" alt=\"Open In Colab\"/></a>"
      ]
    },
    {
      "cell_type": "code",
      "execution_count": null,
      "metadata": {
        "id": "ZNx0KLXgeIDq"
      },
      "outputs": [],
      "source": [
        "import random"
      ]
    },
    {
      "cell_type": "code",
      "source": [
        "def guess(x):\n",
        "  random_number = random.randint(1, x)\n",
        "  guess = 0\n",
        "  while guess != random_number:\n",
        "    guess = int(input(f'Guess a number between 1 and {x}: '))\n",
        "    if guess < random_number:\n",
        "        print('Sorry, guess again. Too low.')\n",
        "    elif guess > random_number:\n",
        "        print('Sorry, guess again. Too high.')\n",
        "    else:\n",
        "        print(f'Yay, congrats. You have guessed the number {random_number} correctly!')\n"
      ],
      "metadata": {
        "id": "hY53NLPcfQiI"
      },
      "execution_count": null,
      "outputs": []
    },
    {
      "cell_type": "code",
      "source": [
        "random_arg = random.randint(1, 10)\n",
        "guess(random_arg)"
      ],
      "metadata": {
        "colab": {
          "base_uri": "https://localhost:8080/"
        },
        "id": "NZS_vIcqf6tI",
        "outputId": "228e4aaf-a901-4693-b617-1193625f7e91"
      },
      "execution_count": null,
      "outputs": [
        {
          "output_type": "stream",
          "name": "stdout",
          "text": [
            "Guess a number between 1 and 10: 5\n",
            "Sorry, guess again. Too low.\n",
            "Guess a number between 1 and 10: 7\n",
            "Sorry, guess again. Too low.\n",
            "Guess a number between 1 and 10: 9\n",
            "Sorry, guess again. Too high.\n",
            "Guess a number between 1 and 10: 8\n",
            "Yay, congrats. You have guessed the number 8 correctly!\n"
          ]
        }
      ]
    },
    {
      "cell_type": "markdown",
      "source": [],
      "metadata": {
        "id": "MBbZ8Tqgf6fR"
      }
    }
  ]
}