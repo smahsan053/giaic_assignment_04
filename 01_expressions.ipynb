{
  "nbformat": 4,
  "nbformat_minor": 0,
  "metadata": {
    "colab": {
      "provenance": [],
      "authorship_tag": "ABX9TyM0ugVDYPCKZRURh/vR8Z9U",
      "include_colab_link": true
    },
    "kernelspec": {
      "name": "python3",
      "display_name": "Python 3"
    },
    "language_info": {
      "name": "python"
    }
  },
  "cells": [
    {
      "cell_type": "markdown",
      "metadata": {
        "id": "view-in-github",
        "colab_type": "text"
      },
      "source": [
        "<a href=\"https://colab.research.google.com/github/smahsan053/giaic_assignment_04/blob/main/01_expressions.ipynb\" target=\"_parent\"><img src=\"https://colab.research.google.com/assets/colab-badge.svg\" alt=\"Open In Colab\"/></a>"
      ]
    },
    {
      "cell_type": "code",
      "execution_count": 5,
      "metadata": {
        "colab": {
          "base_uri": "https://localhost:8080/"
        },
        "id": "3Gmpr0s4BGYT",
        "outputId": "1c2d659f-3429-4f36-fa90-b92bf6fafec6"
      },
      "outputs": [
        {
          "output_type": "stream",
          "name": "stdout",
          "text": [
            "dice1 in main() starts as: 15\n",
            "Total of two dices:  2\n",
            "Total of two dices:  10\n",
            "Total of two dices:  7\n",
            "dice1 in main() is: 15\n"
          ]
        }
      ],
      "source": [
        "# 01_dicesimulator\n",
        "import random\n",
        "\n",
        "NUM_SIDES = 6\n",
        "\n",
        "def roll_dice():\n",
        "\n",
        "    dice1: int = random.randint(1 , NUM_SIDES)\n",
        "    dice2: int = random.randint(1 , NUM_SIDES)\n",
        "    total : int = dice1 + dice2\n",
        "    print(\"Total of two dices: \", total)\n",
        "\n",
        "\n",
        "def main():\n",
        "    dice1: int = 15\n",
        "    print(\"dice1 in main() starts as: \" +  str(dice1))\n",
        "    roll_dice()\n",
        "    roll_dice()\n",
        "    roll_dice()\n",
        "    print(\"dice1 in main() is: \" +  str(dice1))\n",
        "\n",
        "if __name__ == '__main__':\n",
        " main()"
      ]
    },
    {
      "cell_type": "code",
      "source": [
        "# 02_e=mc2\n",
        "C: int = 299792458\n",
        "\n",
        "def main():\n",
        "    mass_in_kg: float = float(input(\"Enter kilos of mass:\"))\n",
        "    energy_in_joules: float = mass_in_kg  * (C ** 2)\n",
        "\n",
        "    print(\"e = m * c^2\")\n",
        "    print(\"m = \" + str(mass_in_kg) +\" \")\n",
        "    print(\"c = \" + str(C) + \"m/s\")\n",
        "    print(str(energy_in_joules) + \"Joules Of Energy\")\n",
        "\n",
        "if __name__ == '__main__':\n",
        " main()"
      ],
      "metadata": {
        "colab": {
          "base_uri": "https://localhost:8080/"
        },
        "id": "nHSp-ubfCocc",
        "outputId": "03b87f05-b7db-4f83-ea13-0db9ba5f55d2"
      },
      "execution_count": 6,
      "outputs": [
        {
          "output_type": "stream",
          "name": "stdout",
          "text": [
            "Enter kilos of mass:60\n",
            "e = m * c^2\n",
            "m = 60.0 \n",
            "c = 299792458m/s\n",
            "5.392531072420906e+18Joules Of Energy\n"
          ]
        }
      ]
    },
    {
      "cell_type": "code",
      "source": [
        "# 03_feet_to_inches\n",
        "INCHES_IN_FOOT : int = 20\n",
        "\n",
        "def main():\n",
        "    feet: float = float(input(\"Enter number of feet:\"))\n",
        "    inches: float = feet * INCHES_IN_FOOT\n",
        "    print(\"That is\" , inches , \"inches!\")\n",
        "\n",
        "if __name__ == '__main__':\n",
        "    main()"
      ],
      "metadata": {
        "colab": {
          "base_uri": "https://localhost:8080/"
        },
        "id": "hQSaJrpkDAXr",
        "outputId": "ce384bae-deac-4710-884a-b290cdcffb8c"
      },
      "execution_count": 7,
      "outputs": [
        {
          "output_type": "stream",
          "name": "stdout",
          "text": [
            "Enter number of feet:5\n",
            "That is 100.0 inches!\n"
          ]
        }
      ]
    },
    {
      "cell_type": "code",
      "source": [
        "# 04_pythagorean_theorem\n",
        "import math\n",
        "\n",
        "def triangle():\n",
        "    ab = float(input(\"Enter the length of side AB: \"))\n",
        "    ac = float(input(\"Enter the length of side AC: \"))\n",
        "    bc = math.sqrt(ab**2 + ac**2)\n",
        "    print(f\"The length of side BC (the hypotenuse): {bc}\")\n",
        "\n",
        "if __name__ == \"__main__\":\n",
        "    triangle()"
      ],
      "metadata": {
        "colab": {
          "base_uri": "https://localhost:8080/"
        },
        "id": "VWr5kIPGDGe5",
        "outputId": "cc533731-286a-4ba2-a677-350abbaa5b92"
      },
      "execution_count": 8,
      "outputs": [
        {
          "output_type": "stream",
          "name": "stdout",
          "text": [
            "Enter the length of side AB: 3\n",
            "Enter the length of side AC: 7\n",
            "The length of side BC (the hypotenuse): 7.615773105863909\n"
          ]
        }
      ]
    },
    {
      "cell_type": "code",
      "source": [
        "# 05_remainder_division\n",
        "def main():\n",
        "    dividend = int(input(\"Please enter an integer to be divided: \"))\n",
        "    divisor = int(input(\"Please enter an integer to divide by: \"))\n",
        "    quotient = dividend // divisor\n",
        "    remainder = dividend % divisor\n",
        "    print(f\"The result of this division is {quotient} with a remainder of {remainder}\")\n",
        "\n",
        "\n",
        "\n",
        "if __name__ == '__main__':\n",
        "    main()"
      ],
      "metadata": {
        "colab": {
          "base_uri": "https://localhost:8080/"
        },
        "id": "VxJcn6VNDTEm",
        "outputId": "40bc649c-1fe7-4aa3-a198-35b78ecfdaa7"
      },
      "execution_count": 9,
      "outputs": [
        {
          "output_type": "stream",
          "name": "stdout",
          "text": [
            "Please enter an integer to be divided: 6\n",
            "Please enter an integer to divide by: 8\n",
            "The result of this division is 0 with a remainder of 6\n"
          ]
        }
      ]
    },
    {
      "cell_type": "code",
      "source": [
        "# 06_rolldice\n",
        "\n",
        "import random\n",
        "\n",
        "def dice():\n",
        "    dice1: int = random.randint(1, 6)\n",
        "    dice2: int = random.randint(1, 6)\n",
        "    total: int = int (dice1 + dice2)\n",
        "\n",
        "    print(f\" First Dice \" + str (dice1))\n",
        "    print(f\" Second Dice \" + str (dice2))\n",
        "    print(f\"Total of both dice is:  {total}\")\n",
        "\n",
        "if __name__ == \"__main__\":\n",
        "    dice()"
      ],
      "metadata": {
        "colab": {
          "base_uri": "https://localhost:8080/"
        },
        "id": "arMWmjDWDgcx",
        "outputId": "6ea92fb4-f4c7-41c1-c5e5-4a924dde56fb"
      },
      "execution_count": 10,
      "outputs": [
        {
          "output_type": "stream",
          "name": "stdout",
          "text": [
            " First Dice 1\n",
            " Second Dice 3\n",
            "Total of both dice is:  4\n"
          ]
        }
      ]
    },
    {
      "cell_type": "code",
      "source": [
        "# 07_seconds_in_year\n",
        "days_in_year: int = 365\n",
        "hours_in_per_day: int = 24\n",
        "minutes_in_hour: int = 60\n",
        "seconds_in_minute: int = 60\n",
        "\n",
        "def seconds_in_year():\n",
        "   print(f\"There are {days_in_year * hours_in_per_day * minutes_in_hour * seconds_in_minute} seconds in a year.\")\n",
        "\n",
        "if __name__ == \"__main__\":\n",
        "    seconds_in_year()"
      ],
      "metadata": {
        "colab": {
          "base_uri": "https://localhost:8080/"
        },
        "id": "6CQK2bEADsSH",
        "outputId": "2cdf84f1-873a-44a8-92e5-090506f7d287"
      },
      "execution_count": 11,
      "outputs": [
        {
          "output_type": "stream",
          "name": "stdout",
          "text": [
            "There are 31536000 seconds in a year.\n"
          ]
        }
      ]
    },
    {
      "cell_type": "code",
      "source": [
        "# 08_tiny_mad_lib\n",
        "def main_lib():\n",
        "    noun:str = str(input(\"Enter a noun: \"))\n",
        "    adjective:str = str(input(\"Enter an adjective: \"))\n",
        "    verb:str = str(input(\"Enter a verb: \"))\n",
        "\n",
        "    print(f\"Do you {verb} your {adjective} {noun}? That's hilarious!\")\n",
        "\n",
        "if __name__ == \"__main__\":\n",
        "    main_lib()"
      ],
      "metadata": {
        "colab": {
          "base_uri": "https://localhost:8080/"
        },
        "id": "IrvzKmKsD3WY",
        "outputId": "45e21c89-0eaf-4819-d033-9e77ffef58e8"
      },
      "execution_count": 14,
      "outputs": [
        {
          "output_type": "stream",
          "name": "stdout",
          "text": [
            "Enter a noun: cat\n",
            "Enter an adjective: fluffy\n",
            "Enter a verb: hug\n",
            "Do you hug your fluffy cat? That's hilarious!\n"
          ]
        }
      ]
    }
  ]
}